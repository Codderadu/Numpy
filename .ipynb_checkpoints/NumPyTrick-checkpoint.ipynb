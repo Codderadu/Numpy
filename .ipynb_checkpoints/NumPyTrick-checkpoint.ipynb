{
 "cells": [
  {
   "cell_type": "code",
   "execution_count": 1,
   "id": "cb784249-9a2d-42a0-a42d-15988fffa56b",
   "metadata": {},
   "outputs": [],
   "source": [
    "#np.sort function\n",
    "import numpy as np"
   ]
  },
  {
   "cell_type": "code",
   "execution_count": 6,
   "id": "2ef946e4-6c68-44f2-822f-a5d2931ee8ae",
   "metadata": {},
   "outputs": [],
   "source": [
    "x=np.random.randint(1,10,23)"
   ]
  },
  {
   "cell_type": "code",
   "execution_count": 7,
   "id": "53f24d11-8645-4568-bf79-e22104494bdf",
   "metadata": {},
   "outputs": [
    {
     "data": {
      "text/plain": [
       "array([1, 2, 2, 2, 3, 4, 4, 4, 4, 4, 5, 5, 5, 5, 6, 7, 7, 7, 8, 8, 9, 9,\n",
       "       9])"
      ]
     },
     "execution_count": 7,
     "metadata": {},
     "output_type": "execute_result"
    }
   ],
   "source": [
    "np.sort(x)"
   ]
  },
  {
   "cell_type": "code",
   "execution_count": 8,
   "id": "6bd08a46-3192-4c27-9061-6ed82fc96c49",
   "metadata": {},
   "outputs": [],
   "source": [
    "x=np.random.randint(1,100,24).reshape(4,6)"
   ]
  },
  {
   "cell_type": "code",
   "execution_count": 14,
   "id": "526cee6c-d961-48d9-8f7b-a77cd4544feb",
   "metadata": {},
   "outputs": [
    {
     "data": {
      "text/plain": [
       "array([[18, 23, 24, 40, 57, 90],\n",
       "       [19, 29, 36, 52, 77, 96],\n",
       "       [25, 31, 63, 64, 80, 97],\n",
       "       [25, 69, 71, 76, 91, 98]])"
      ]
     },
     "execution_count": 14,
     "metadata": {},
     "output_type": "execute_result"
    }
   ],
   "source": [
    "np.sort(x,axis=0)"
   ]
  },
  {
   "cell_type": "code",
   "execution_count": 28,
   "id": "b91ecee3-dba4-48a0-b2e3-eee3a503675f",
   "metadata": {},
   "outputs": [
    {
     "data": {
      "text/plain": [
       "array([ 1,  2,  3,  4,  5,  6,  7,  8,  9, 10, 11, 12, 13, 14, 15, 16, 17,\n",
       "       18, 19, 20, 21, 22, 23, 24, 25, 26, 27, 28, 29, 30, 31, 32, 33, 34,\n",
       "       35, 36, 37, 38, 39, 40, 41, 42, 43, 44, 45, 46, 47, 48])"
      ]
     },
     "execution_count": 28,
     "metadata": {},
     "output_type": "execute_result"
    }
   ],
   "source": [
    "#concatenate of arrays\n",
    "x=np.arange(1,25).reshape(6,4)\n",
    "y=np.arange(25,49).reshape(6,4);\n",
    "np.concatenate((x,y),axis=None)"
   ]
  },
  {
   "cell_type": "code",
   "execution_count": 32,
   "id": "ebd725f6-c892-4a89-bcfd-fb53e16cc9e9",
   "metadata": {},
   "outputs": [
    {
     "data": {
      "text/plain": [
       "array([1, 2, 3, 4, 5, 4])"
      ]
     },
     "execution_count": 32,
     "metadata": {},
     "output_type": "execute_result"
    }
   ],
   "source": [
    "#append\n",
    "x=np.array([1,2,3,4,5]);\n",
    "np.append(x,4)"
   ]
  },
  {
   "cell_type": "code",
   "execution_count": 41,
   "id": "423c3baf-510e-4430-8324-7c62211e45f2",
   "metadata": {},
   "outputs": [
    {
     "data": {
      "text/plain": [
       "array([[ 1.,  2.,  3.,  4.,  5.,  6.,  1.],\n",
       "       [ 7.,  8.,  9., 10., 11., 12.,  1.],\n",
       "       [13., 14., 15., 16., 17., 18.,  1.],\n",
       "       [19., 20., 21., 22., 23., 24.,  1.]])"
      ]
     },
     "execution_count": 41,
     "metadata": {},
     "output_type": "execute_result"
    }
   ],
   "source": [
    "#in 2D array\n",
    "x=np.arange(1,25).reshape(4,6)\n",
    "np.append(x,np.ones((x.shape[0],1)),axis=1)"
   ]
  },
  {
   "cell_type": "code",
   "execution_count": 49,
   "id": "f6459b50-5ee9-41a0-9ecd-1b9349b9f994",
   "metadata": {},
   "outputs": [
    {
     "data": {
      "text/plain": [
       "array([1, 2, 3, 4, 5, 6, 7, 8])"
      ]
     },
     "execution_count": 49,
     "metadata": {},
     "output_type": "execute_result"
    }
   ],
   "source": [
    "##unique\n",
    "x=np.array([1,2,3,4,5,3,6,7,8,4,4,4,4,3,3,4,3,3,3]);\n",
    "np.unique(x)"
   ]
  },
  {
   "cell_type": "code",
   "execution_count": 54,
   "id": "df3706e2-ea61-469e-872c-9e7cdb44c21f",
   "metadata": {},
   "outputs": [
    {
     "data": {
      "text/plain": [
       "array([[1],\n",
       "       [2],\n",
       "       [3],\n",
       "       [4],\n",
       "       [5],\n",
       "       [6],\n",
       "       [7],\n",
       "       [8]])"
      ]
     },
     "execution_count": 54,
     "metadata": {},
     "output_type": "execute_result"
    }
   ],
   "source": [
    "#expand dims\n",
    "x=np.array([1,2,3,4,5,6,7,8])\n",
    "np.expand_dims(x,axis=1).shape"
   ]
  },
  {
   "cell_type": "code",
   "execution_count": 60,
   "id": "4159a429-b1f3-4aac-b03c-c3c8d9b27b8e",
   "metadata": {},
   "outputs": [
    {
     "data": {
      "text/plain": [
       "(array([ 1,  3,  7,  8, 10, 18, 20], dtype=int64),)"
      ]
     },
     "execution_count": 60,
     "metadata": {},
     "output_type": "execute_result"
    }
   ],
   "source": [
    "#where its find index for given condition\n",
    "x=np.random.randint(1,100,23)\n",
    "np.where(x>70)"
   ]
  },
  {
   "cell_type": "code",
   "execution_count": 83,
   "id": "26ff4b0c-1ad8-47d6-b96a-3926aa2f1202",
   "metadata": {},
   "outputs": [
    {
     "data": {
      "text/plain": [
       "28"
      ]
     },
     "execution_count": 83,
     "metadata": {},
     "output_type": "execute_result"
    }
   ],
   "source": [
    "##argmax and argmin\n",
    "x=np.random.randint(1,100,50)\n",
    "np.argmax(x)\n",
    "np.argmin(x)"
   ]
  },
  {
   "cell_type": "code",
   "execution_count": 63,
   "id": "274a1392-a97f-4d49-94fe-3c201aaf1454",
   "metadata": {},
   "outputs": [
    {
     "data": {
      "text/plain": [
       "array([1, 2, 3, 4, 5, 6, 7, 8, 9])"
      ]
     },
     "execution_count": 63,
     "metadata": {},
     "output_type": "execute_result"
    }
   ],
   "source": [
    "x"
   ]
  },
  {
   "cell_type": "code",
   "execution_count": 85,
   "id": "5583da03-18be-460e-998d-5cd3dc7828d3",
   "metadata": {},
   "outputs": [],
   "source": [
    "##cumulite sum && cumulitive product\n",
    "x=np.array([12,34,56,78,90,56,89,86,43])"
   ]
  },
  {
   "cell_type": "code",
   "execution_count": 86,
   "id": "7a6e42e1-2748-4d66-97d0-ef20af9ec1ad",
   "metadata": {},
   "outputs": [
    {
     "data": {
      "text/plain": [
       "array([ 12,  46, 102, 180, 270, 326, 415, 501, 544])"
      ]
     },
     "execution_count": 86,
     "metadata": {},
     "output_type": "execute_result"
    }
   ],
   "source": [
    "np.cumsum(x)"
   ]
  },
  {
   "cell_type": "code",
   "execution_count": 87,
   "id": "2a59ecc3-d6bb-47be-b1c6-2aff2aa3af12",
   "metadata": {},
   "outputs": [
    {
     "data": {
      "text/plain": [
       "array([         12,         408,       22848,     1782144,   160392960,\n",
       "         392071168,   534595584, -1269420032,  1249513472])"
      ]
     },
     "execution_count": 87,
     "metadata": {},
     "output_type": "execute_result"
    }
   ],
   "source": [
    "np.cumprod(x)"
   ]
  },
  {
   "cell_type": "code",
   "execution_count": 96,
   "id": "908f07ef-a1ae-4957-a25c-41112285def5",
   "metadata": {},
   "outputs": [
    {
     "data": {
      "text/plain": [
       "array([[  1,   3,   6,  10,  15,  21],\n",
       "       [  7,  15,  24,  34,  45,  57],\n",
       "       [ 13,  27,  42,  58,  75,  93],\n",
       "       [ 19,  39,  60,  82, 105, 129]])"
      ]
     },
     "execution_count": 96,
     "metadata": {},
     "output_type": "execute_result"
    }
   ],
   "source": [
    "##on 2d array\n",
    "x=np.arange(1,25).reshape(4,6)\n",
    "np.cumsum(x,axis=1)"
   ]
  },
  {
   "cell_type": "code",
   "execution_count": 103,
   "id": "9864f1ba-d014-4385-a397-c83a31cea859",
   "metadata": {},
   "outputs": [
    {
     "data": {
      "text/plain": [
       "1.0"
      ]
     },
     "execution_count": 103,
     "metadata": {},
     "output_type": "execute_result"
    }
   ],
   "source": [
    "x=np.arange(1,100)\n",
    "np.percentile(x,0)"
   ]
  },
  {
   "cell_type": "code",
   "execution_count": 106,
   "id": "49616e3f-a614-469d-8a3b-5969601fc6f7",
   "metadata": {},
   "outputs": [
    {
     "data": {
      "text/plain": [
       "(array([3, 1, 2, 3, 0, 2, 1, 1, 0, 2], dtype=int64),\n",
       " array([  0,  10,  20,  30,  40,  50,  60,  70,  80,  90, 100]))"
      ]
     },
     "execution_count": 106,
     "metadata": {},
     "output_type": "execute_result"
    }
   ],
   "source": [
    "##histogram\n",
    "x=np.array([11, 53, 28, 50, 38, 37, 94, 92,  5, 30, 68,  9, 78,  2, 21])\n",
    "np.histogram(x,bins=[0,10,20,30,40,50,60,70,80,90,100])"
   ]
  },
  {
   "cell_type": "code",
   "execution_count": 107,
   "id": "d043ecf5-8278-4c82-a0bc-870eb2904d24",
   "metadata": {},
   "outputs": [],
   "source": [
    "item=np.array([11,34,56,7,8,44,94,5,3])"
   ]
  },
  {
   "cell_type": "code",
   "execution_count": 110,
   "id": "10a7337a-15d6-44bd-b92d-748fe18f96db",
   "metadata": {},
   "outputs": [
    {
     "ename": "IndexError",
     "evalue": "boolean index did not match indexed array along dimension 0; dimension is 9 but corresponding boolean dimension is 15",
     "output_type": "error",
     "traceback": [
      "\u001b[1;31m---------------------------------------------------------------------------\u001b[0m",
      "\u001b[1;31mIndexError\u001b[0m                                Traceback (most recent call last)",
      "Cell \u001b[1;32mIn[110], line 2\u001b[0m\n\u001b[0;32m      1\u001b[0m \u001b[38;5;66;03m##isin\u001b[39;00m\n\u001b[1;32m----> 2\u001b[0m \u001b[43mitem\u001b[49m\u001b[43m[\u001b[49m\u001b[43mnp\u001b[49m\u001b[38;5;241;43m.\u001b[39;49m\u001b[43misin\u001b[49m\u001b[43m(\u001b[49m\u001b[43mx\u001b[49m\u001b[43m,\u001b[49m\u001b[43mitem\u001b[49m\u001b[43m)\u001b[49m\u001b[43m]\u001b[49m\n",
      "\u001b[1;31mIndexError\u001b[0m: boolean index did not match indexed array along dimension 0; dimension is 9 but corresponding boolean dimension is 15"
     ]
    }
   ],
   "source": [
    "##isin\n",
    "x[np.isin(x,item)]"
   ]
  }
 ],
 "metadata": {
  "kernelspec": {
   "display_name": "Python 3 (ipykernel)",
   "language": "python",
   "name": "python3"
  },
  "language_info": {
   "codemirror_mode": {
    "name": "ipython",
    "version": 3
   },
   "file_extension": ".py",
   "mimetype": "text/x-python",
   "name": "python",
   "nbconvert_exporter": "python",
   "pygments_lexer": "ipython3",
   "version": "3.11.5"
  }
 },
 "nbformat": 4,
 "nbformat_minor": 5
}
